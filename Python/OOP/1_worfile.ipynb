{
 "cells": [
  {
   "cell_type": "code",
   "execution_count": 1,
   "metadata": {},
   "outputs": [],
   "source": [
    "#To show multiple outputs and misc. changes\n",
    "from IPython.core.interactiveshell import InteractiveShell\n",
    "InteractiveShell.ast_node_interactivity = \"all\" # Show all results without print (last_expr"
   ]
  },
  {
   "cell_type": "code",
   "execution_count": 2,
   "metadata": {},
   "outputs": [],
   "source": [
    "import math\n",
    "from random import randint"
   ]
  },
  {
   "cell_type": "markdown",
   "metadata": {},
   "source": [
    "**<font color='silver' face=\"Rockwell\" size=\"6\">App 1 - Geometry Game**</font>"
   ]
  },
  {
   "cell_type": "code",
   "execution_count": 3,
   "metadata": {},
   "outputs": [
    {
     "data": {
      "text/plain": [
       "__main__.Point"
      ]
     },
     "execution_count": 3,
     "metadata": {},
     "output_type": "execute_result"
    },
    {
     "data": {
      "text/plain": [
       "int"
      ]
     },
     "execution_count": 3,
     "metadata": {},
     "output_type": "execute_result"
    }
   ],
   "source": [
    "class Point:\n",
    "    def __init__(self, x, y):\n",
    "        self.x = x\n",
    "        self.y = y\n",
    "\n",
    "point1 = Point(10, 20)\n",
    "point2 = Point(1, 2)\n",
    "point3 = Point(3, 4)\n",
    "point4 = Point(5, 6)\n",
    "type(point1) # <class '__main__.Point'> __main__ is the name of the module\n",
    "\n",
    "number1 = int(\"2\")\n",
    "type(number1) # <class 'int'>"
   ]
  },
  {
   "cell_type": "code",
   "execution_count": 4,
   "metadata": {},
   "outputs": [],
   "source": [
    "####################\n",
    "#### Assignment ####\n",
    "####################\n",
    "class House:\n",
    "    def __init__(self, wall_area):\n",
    "        self.wall_area = wall_area"
   ]
  },
  {
   "cell_type": "code",
   "execution_count": 5,
   "metadata": {},
   "outputs": [
    {
     "data": {
      "text/plain": [
       "<geometry.PointExt at 0x26b8f1e8730>"
      ]
     },
     "execution_count": 5,
     "metadata": {},
     "output_type": "execute_result"
    },
    {
     "data": {
      "text/plain": [
       "'c:\\\\Users\\\\maity\\\\OneDrive\\\\Documents\\\\Github\\\\DataScience\\\\Python\\\\OOP\\\\geometry.py'"
      ]
     },
     "execution_count": 5,
     "metadata": {},
     "output_type": "execute_result"
    }
   ],
   "source": [
    "import geometry\n",
    "point1 = geometry.PointExt(10, 20)\n",
    "point1 # geometry.PointExt # geometry is the name of the module\n",
    "geometry.__file__ # gives the path to the module"
   ]
  },
  {
   "cell_type": "code",
   "execution_count": 6,
   "metadata": {},
   "outputs": [
    {
     "data": {
      "text/plain": [
       "ipaddress.IPv4Address"
      ]
     },
     "execution_count": 6,
     "metadata": {},
     "output_type": "execute_result"
    },
    {
     "data": {
      "text/plain": [
       "'c:\\\\Users\\\\maity\\\\.conda\\\\envs\\\\py39\\\\lib\\\\ipaddress.py'"
      ]
     },
     "execution_count": 6,
     "metadata": {},
     "output_type": "execute_result"
    }
   ],
   "source": [
    "import ipaddress\n",
    "myip = ipaddress.IPv4Address(\"1.1.1.1\")\n",
    "type(myip) # <class 'ipaddress.IPv4Address'>\n",
    "ipaddress.__file__ # gives the path to the module"
   ]
  },
  {
   "cell_type": "code",
   "execution_count": 7,
   "metadata": {},
   "outputs": [
    {
     "data": {
      "text/plain": [
       "<geometry.PointExt at 0x26b8f1e8730>"
      ]
     },
     "execution_count": 7,
     "metadata": {},
     "output_type": "execute_result"
    },
    {
     "data": {
      "text/plain": [
       "2"
      ]
     },
     "execution_count": 7,
     "metadata": {},
     "output_type": "execute_result"
    }
   ],
   "source": [
    "point1 # gives the memory location of the object\n",
    "number1 # gives the value of the object"
   ]
  },
  {
   "cell_type": "code",
   "execution_count": 8,
   "metadata": {},
   "outputs": [
    {
     "data": {
      "text/plain": [
       "10"
      ]
     },
     "execution_count": 8,
     "metadata": {},
     "output_type": "execute_result"
    },
    {
     "data": {
      "text/plain": [
       "20"
      ]
     },
     "execution_count": 8,
     "metadata": {},
     "output_type": "execute_result"
    },
    {
     "data": {
      "text/plain": [
       "100"
      ]
     },
     "execution_count": 8,
     "metadata": {},
     "output_type": "execute_result"
    }
   ],
   "source": [
    "# self is the reference to the object itself\n",
    "class Point:\n",
    "    def __init__(self, x, y):\n",
    "        self.x = x\n",
    "        self.y = y\n",
    "\n",
    "point1 = Point(10, 20)\n",
    "point2 = Point(1, 2)\n",
    "point3 = Point(3, 4)\n",
    "point4 = Point(5, 6)\n",
    "# x and y are the attributes of the object, or instance variables\n",
    "point1.x # 10\n",
    "point1.y # 20\n",
    "Point(100,200).x # 100"
   ]
  },
  {
   "cell_type": "code",
   "execution_count": 9,
   "metadata": {},
   "outputs": [
    {
     "name": "stdout",
     "output_type": "stream",
     "text": [
      "<__main__.Point object at 0x0000026B8F1EE490>\n",
      "<__main__.Point object at 0x0000026B8F128A60>\n",
      "<__main__.Point object at 0x0000026B8F1280A0>\n",
      "<__main__.Point object at 0x0000026B8F128820>\n"
     ]
    },
    {
     "data": {
      "text/plain": [
       "10"
      ]
     },
     "execution_count": 9,
     "metadata": {},
     "output_type": "execute_result"
    },
    {
     "data": {
      "text/plain": [
       "20"
      ]
     },
     "execution_count": 9,
     "metadata": {},
     "output_type": "execute_result"
    },
    {
     "name": "stdout",
     "output_type": "stream",
     "text": [
      "<__main__.Point object at 0x0000026B8F1F24F0>\n"
     ]
    },
    {
     "data": {
      "text/plain": [
       "100"
      ]
     },
     "execution_count": 9,
     "metadata": {},
     "output_type": "execute_result"
    }
   ],
   "source": [
    "# self is the reference to the object itself\n",
    "class Point:\n",
    "    def __init__(this_object, x, y):\n",
    "        this_object.x = x\n",
    "        this_object.y = y\n",
    "        print(this_object) # <__main__.Point object at 0x000001E0B1B1F0A0>\n",
    "\n",
    "point1 = Point(10, 20)\n",
    "point2 = Point(1, 2)\n",
    "point3 = Point(3, 4)\n",
    "point4 = Point(5, 6)\n",
    "# x and y are the attributes of the object, or instance variables\n",
    "point1.x # 10\n",
    "point1.y # 20\n",
    "Point(100,200).x # 100"
   ]
  },
  {
   "cell_type": "code",
   "execution_count": 10,
   "metadata": {},
   "outputs": [
    {
     "data": {
      "text/plain": [
       "'John'"
      ]
     },
     "execution_count": 10,
     "metadata": {},
     "output_type": "execute_result"
    },
    {
     "data": {
      "text/plain": [
       "65"
      ]
     },
     "execution_count": 10,
     "metadata": {},
     "output_type": "execute_result"
    }
   ],
   "source": [
    "class Person:\n",
    "    def __init__(self, name, age):\n",
    "        self.name = name\n",
    "        self.age = age\n",
    "person1 = Person(\"John\", 65)\n",
    "person1.name # John\n",
    "person1.age # 65"
   ]
  },
  {
   "cell_type": "code",
   "execution_count": 11,
   "metadata": {},
   "outputs": [
    {
     "data": {
      "text/plain": [
       "'John'"
      ]
     },
     "execution_count": 11,
     "metadata": {},
     "output_type": "execute_result"
    },
    {
     "data": {
      "text/plain": [
       "65"
      ]
     },
     "execution_count": 11,
     "metadata": {},
     "output_type": "execute_result"
    }
   ],
   "source": [
    "class Person:\n",
    "    def __init__(self, n, a):\n",
    "        self.name = n\n",
    "        self.age = a\n",
    "person1 = Person(\"John\", 65)\n",
    "person1.name # John\n",
    "person1.age # 65"
   ]
  },
  {
   "cell_type": "code",
   "execution_count": 12,
   "metadata": {},
   "outputs": [],
   "source": [
    "####################\n",
    "#### Assignment ####\n",
    "####################\n",
    "class House:\n",
    "    def __init__(self, wall_area):\n",
    "        self.wall_area = wall_area\n",
    "\n",
    "class Paint:\n",
    "    def __init__(self, buckets, color):\n",
    "        self.buckets = buckets\n",
    "        self.color = color"
   ]
  },
  {
   "cell_type": "code",
   "execution_count": 13,
   "metadata": {},
   "outputs": [
    {
     "data": {
      "text/plain": [
       "1"
      ]
     },
     "execution_count": 13,
     "metadata": {},
     "output_type": "execute_result"
    },
    {
     "data": {
      "text/plain": [
       "'John'"
      ]
     },
     "execution_count": 13,
     "metadata": {},
     "output_type": "execute_result"
    }
   ],
   "source": [
    "\"john\".count(\"j\")\n",
    "\"john\".capitalize()"
   ]
  },
  {
   "cell_type": "code",
   "execution_count": 14,
   "metadata": {},
   "outputs": [
    {
     "name": "stdout",
     "output_type": "stream",
     "text": [
      "10 20\n"
     ]
    }
   ],
   "source": [
    "class Point:\n",
    "    def __init__(self, x, y):\n",
    "        self.x = x\n",
    "        self.y = y\n",
    "point1 = Point(10, 20)\n",
    "print(point1.x, point1.y) # 10 20"
   ]
  },
  {
   "cell_type": "code",
   "execution_count": 15,
   "metadata": {},
   "outputs": [
    {
     "data": {
      "text/plain": [
       "'Point does not fall in rectangle'"
      ]
     },
     "execution_count": 15,
     "metadata": {},
     "output_type": "execute_result"
    },
    {
     "data": {
      "text/plain": [
       "'Point falls in rectangle'"
      ]
     },
     "execution_count": 15,
     "metadata": {},
     "output_type": "execute_result"
    }
   ],
   "source": [
    "class Point:\n",
    "    def __init__(self, x, y):\n",
    "        self.x = x\n",
    "        self.y = y\n",
    "        \n",
    "    def falls_in_rectangle(self, lowleft, upright):\n",
    "        if lowleft[0] <= self.x <= upright[0] and lowleft[1] <= self.y <= upright[1]:\n",
    "            return \"Point falls in rectangle\"\n",
    "        else:\n",
    "            return \"Point does not fall in rectangle\"\n",
    "\n",
    "point1 = Point(3, 4)\n",
    "point1.falls_in_rectangle((5,6), (7,9)) # False\n",
    "point1.falls_in_rectangle((1,2), (7,9)) # True"
   ]
  },
  {
   "cell_type": "code",
   "execution_count": 16,
   "metadata": {},
   "outputs": [
    {
     "name": "stdout",
     "output_type": "stream",
     "text": [
      "Hey I am in __init__!\n"
     ]
    },
    {
     "data": {
      "text/plain": [
       "'Point does not fall in rectangle'"
      ]
     },
     "execution_count": 16,
     "metadata": {},
     "output_type": "execute_result"
    },
    {
     "data": {
      "text/plain": [
       "'Point falls in rectangle'"
      ]
     },
     "execution_count": 16,
     "metadata": {},
     "output_type": "execute_result"
    }
   ],
   "source": [
    "# __init__ vs normal method: \n",
    "# __init__ is called when the object is created, \n",
    "# normal method is called when the object is already created\n",
    "\n",
    "class Point:\n",
    "    def __init__(self, x, y):\n",
    "        print(\"Hey I am in __init__!\")\n",
    "        self.x = x\n",
    "        self.y = y\n",
    "        \n",
    "    def falls_in_rectangle(self, lowleft, upright):\n",
    "        if lowleft[0] <= self.x <= upright[0] and lowleft[1] <= self.y <= upright[1]:\n",
    "            return \"Point falls in rectangle\"\n",
    "        else:\n",
    "            return \"Point does not fall in rectangle\"\n",
    "\n",
    "point1 = Point(3, 4)\n",
    "point1.falls_in_rectangle((5,6), (7,9)) # False\n",
    "point1.falls_in_rectangle((1,2), (7,9)) # True"
   ]
  },
  {
   "cell_type": "code",
   "execution_count": 17,
   "metadata": {},
   "outputs": [
    {
     "data": {
      "text/plain": [
       "'Point does not fall in rectangle'"
      ]
     },
     "execution_count": 17,
     "metadata": {},
     "output_type": "execute_result"
    },
    {
     "data": {
      "text/plain": [
       "'Point falls in rectangle'"
      ]
     },
     "execution_count": 17,
     "metadata": {},
     "output_type": "execute_result"
    },
    {
     "data": {
      "text/plain": [
       "3.605551275463989"
      ]
     },
     "execution_count": 17,
     "metadata": {},
     "output_type": "execute_result"
    },
    {
     "data": {
      "text/plain": [
       "1.0"
      ]
     },
     "execution_count": 17,
     "metadata": {},
     "output_type": "execute_result"
    },
    {
     "data": {
      "text/plain": [
       "3.605551275463989"
      ]
     },
     "execution_count": 17,
     "metadata": {},
     "output_type": "execute_result"
    },
    {
     "data": {
      "text/plain": [
       "1.0"
      ]
     },
     "execution_count": 17,
     "metadata": {},
     "output_type": "execute_result"
    }
   ],
   "source": [
    "class Point:\n",
    "    def __init__(self, x, y):\n",
    "        self.x = x\n",
    "        self.y = y\n",
    "        \n",
    "    def falls_in_rectangle(self, lowleft, upright):\n",
    "        if lowleft[0] <= self.x <= upright[0] and lowleft[1] <= self.y <= upright[1]:\n",
    "            return \"Point falls in rectangle\"\n",
    "        else:\n",
    "            return \"Point does not fall in rectangle\"\n",
    "\n",
    "    def distance_from_point1(self, point_x, point_y):\n",
    "        return math.sqrt((self.x - point_x)**2 + (self.y - point_y)**2)\n",
    "\n",
    "    def distance_from_point2(self, point):\n",
    "        return math.sqrt((self.x - point.x)**2 + (self.y - point.y)**2)\n",
    "\n",
    "point1 = Point(3, 4)\n",
    "point1.falls_in_rectangle((5,6), (7,9)) # False\n",
    "point1.falls_in_rectangle((1,2), (7,9)) # True\n",
    "\n",
    "point1.distance_from_point1(1,1) # 3.605551275463989\n",
    "point1.distance_from_point1(3,3) # 1.4142135623730951\n",
    "\n",
    "point1.distance_from_point2(Point(1,1)) # 3.605551275463989\n",
    "point1.distance_from_point2(Point(3,3)) # 1.4142135623730951"
   ]
  },
  {
   "cell_type": "code",
   "execution_count": 18,
   "metadata": {},
   "outputs": [],
   "source": [
    "####################\n",
    "#### Assignment ####\n",
    "####################\n",
    "class House:\n",
    "    def __init__(self, wall_area):\n",
    "        self.wall_area = wall_area\n",
    "\n",
    "    def paint_needed(self):\n",
    "        return self.wall_area * 2.5\n",
    "\n",
    "class Paint:\n",
    "    def __init__(self, buckets, color):\n",
    "        self.buckets = buckets\n",
    "        self.color = color\n",
    "\n",
    "    def total_price(self):\n",
    "        if self.color == \"white\":\n",
    "            return self.buckets * 1.99\n",
    "        else:\n",
    "            return self.buckets * 2.19"
   ]
  },
  {
   "cell_type": "code",
   "execution_count": 19,
   "metadata": {},
   "outputs": [
    {
     "data": {
      "text/plain": [
       "'Point falls in rectangle'"
      ]
     },
     "execution_count": 19,
     "metadata": {},
     "output_type": "execute_result"
    }
   ],
   "source": [
    "class Point:\n",
    "    def __init__(self, x, y):\n",
    "        self.x = x\n",
    "        self.y = y\n",
    "        \n",
    "    def falls_in_rectangle(self, rectangle):\n",
    "        if rectangle.lowleft.x <= self.x <= rectangle.upright.x and rectangle.lowleft.y <= self.y <= rectangle.upright.y:\n",
    "            return \"Point falls in rectangle\"\n",
    "        else:\n",
    "            return \"Point does not fall in rectangle\"\n",
    "\n",
    "    def distance_from_point1(self, point_x, point_y):\n",
    "        return math.sqrt((self.x - point_x)**2 + (self.y - point_y)**2)\n",
    "\n",
    "    def distance_from_point2(self, point):\n",
    "        return math.sqrt((self.x - point.x)**2 + (self.y - point.y)**2)\n",
    "\n",
    "class Rectangle:\n",
    "    def __init__(self, lowleft, upright):\n",
    "        self.lowleft = lowleft\n",
    "        self.upright = upright\n",
    "\n",
    "pointx = Point(6,7)\n",
    "rectanglex = Rectangle(Point(5,6), Point(7,9))\n",
    "pointx.falls_in_rectangle(rectanglex)"
   ]
  },
  {
   "cell_type": "code",
   "execution_count": 20,
   "metadata": {},
   "outputs": [
    {
     "name": "stdout",
     "output_type": "stream",
     "text": [
      "Rectangle Coordinates:  9 , 0 and 16 , 19\n",
      "Point falls in rectangle\n"
     ]
    }
   ],
   "source": [
    "rectangle1 = Rectangle(\n",
    "    Point(randint(0,9), randint(0,9)),\n",
    "    Point(randint(10,19), randint(10,19)))\n",
    "\n",
    "print(\"Rectangle Coordinates: \", \n",
    "rectangle1.lowleft.x, \",\",\n",
    "rectangle1.lowleft.y, \"and\",\n",
    "rectangle1.upright.x, \",\",\n",
    "rectangle1.upright.y)\n",
    "\n",
    "user_point = Point(int(input(\"Enter x coordinate: \")), \n",
    "int(input(\"Enter y coordinate: \")))\n",
    "print(user_point.falls_in_rectangle(rectangle1))"
   ]
  },
  {
   "cell_type": "code",
   "execution_count": null,
   "metadata": {},
   "outputs": [],
   "source": [
    "# resume from video number 23"
   ]
  }
 ],
 "metadata": {
  "kernelspec": {
   "display_name": "py39",
   "language": "python",
   "name": "python3"
  },
  "language_info": {
   "codemirror_mode": {
    "name": "ipython",
    "version": 3
   },
   "file_extension": ".py",
   "mimetype": "text/x-python",
   "name": "python",
   "nbconvert_exporter": "python",
   "pygments_lexer": "ipython3",
   "version": "3.9.15"
  },
  "orig_nbformat": 4,
  "vscode": {
   "interpreter": {
    "hash": "794a8a701eeef78e41fe51f434b85e459ef8de39e6469efda4ebf6fddf64d283"
   }
  }
 },
 "nbformat": 4,
 "nbformat_minor": 2
}
