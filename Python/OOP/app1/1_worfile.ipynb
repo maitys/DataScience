{
 "cells": [
  {
   "attachments": {},
   "cell_type": "markdown",
   "metadata": {},
   "source": [
    "**<font color='silver' face=\"Rockwell\" size=\"6\">App 1 - Geometry Game**</font>\n",
    "<br>Lec 1 to 31"
   ]
  },
  {
   "cell_type": "code",
   "execution_count": 1,
   "metadata": {},
   "outputs": [],
   "source": [
    "#To show multiple outputs and misc. changes\n",
    "from IPython.core.interactiveshell import InteractiveShell\n",
    "InteractiveShell.ast_node_interactivity = \"all\" # Show all results without print (last_expr"
   ]
  },
  {
   "cell_type": "code",
   "execution_count": 2,
   "metadata": {},
   "outputs": [],
   "source": [
    "import math\n",
    "from random import randint"
   ]
  },
  {
   "cell_type": "code",
   "execution_count": 3,
   "metadata": {},
   "outputs": [
    {
     "data": {
      "text/plain": [
       "__main__.Point"
      ]
     },
     "execution_count": 3,
     "metadata": {},
     "output_type": "execute_result"
    },
    {
     "data": {
      "text/plain": [
       "int"
      ]
     },
     "execution_count": 3,
     "metadata": {},
     "output_type": "execute_result"
    }
   ],
   "source": [
    "class Point:\n",
    "    def __init__(self, x, y):\n",
    "        self.x = x\n",
    "        self.y = y\n",
    "\n",
    "point1 = Point(10, 20)\n",
    "point2 = Point(1, 2)\n",
    "point3 = Point(3, 4)\n",
    "point4 = Point(5, 6)\n",
    "type(point1) # <class '__main__.Point'> __main__ is the name of the module\n",
    "\n",
    "number1 = int(\"2\")\n",
    "type(number1) # <class 'int'>"
   ]
  },
  {
   "cell_type": "code",
   "execution_count": 4,
   "metadata": {},
   "outputs": [],
   "source": [
    "####################\n",
    "#### Assignment ####\n",
    "####################\n",
    "class House:\n",
    "    def __init__(self, wall_area):\n",
    "        self.wall_area = wall_area"
   ]
  },
  {
   "cell_type": "code",
   "execution_count": 5,
   "metadata": {},
   "outputs": [
    {
     "data": {
      "text/plain": [
       "<geometry.PointExt at 0x27cdbe0eaf0>"
      ]
     },
     "execution_count": 5,
     "metadata": {},
     "output_type": "execute_result"
    },
    {
     "data": {
      "text/plain": [
       "'c:\\\\Users\\\\smaity\\\\Documents\\\\GitHub\\\\learning\\\\DataScience\\\\Python\\\\OOP\\\\app1\\\\geometry.py'"
      ]
     },
     "execution_count": 5,
     "metadata": {},
     "output_type": "execute_result"
    }
   ],
   "source": [
    "import geometry\n",
    "point1 = geometry.PointExt(10, 20)\n",
    "point1 # geometry.PointExt # geometry is the name of the module\n",
    "geometry.__file__ # gives the path to the module"
   ]
  },
  {
   "cell_type": "code",
   "execution_count": 6,
   "metadata": {},
   "outputs": [
    {
     "data": {
      "text/plain": [
       "ipaddress.IPv4Address"
      ]
     },
     "execution_count": 6,
     "metadata": {},
     "output_type": "execute_result"
    },
    {
     "data": {
      "text/plain": [
       "'c:\\\\Users\\\\smaity\\\\anaconda3\\\\envs\\\\pyoop_env\\\\lib\\\\ipaddress.py'"
      ]
     },
     "execution_count": 6,
     "metadata": {},
     "output_type": "execute_result"
    }
   ],
   "source": [
    "import ipaddress\n",
    "myip = ipaddress.IPv4Address(\"1.1.1.1\")\n",
    "type(myip) # <class 'ipaddress.IPv4Address'>\n",
    "ipaddress.__file__ # gives the path to the module"
   ]
  },
  {
   "cell_type": "code",
   "execution_count": 7,
   "metadata": {},
   "outputs": [
    {
     "data": {
      "text/plain": [
       "<geometry.PointExt at 0x27cdbe0eaf0>"
      ]
     },
     "execution_count": 7,
     "metadata": {},
     "output_type": "execute_result"
    },
    {
     "data": {
      "text/plain": [
       "2"
      ]
     },
     "execution_count": 7,
     "metadata": {},
     "output_type": "execute_result"
    }
   ],
   "source": [
    "point1 # gives the memory location of the object\n",
    "number1 # gives the value of the object"
   ]
  },
  {
   "cell_type": "code",
   "execution_count": 8,
   "metadata": {},
   "outputs": [
    {
     "data": {
      "text/plain": [
       "10"
      ]
     },
     "execution_count": 8,
     "metadata": {},
     "output_type": "execute_result"
    },
    {
     "data": {
      "text/plain": [
       "20"
      ]
     },
     "execution_count": 8,
     "metadata": {},
     "output_type": "execute_result"
    },
    {
     "data": {
      "text/plain": [
       "100"
      ]
     },
     "execution_count": 8,
     "metadata": {},
     "output_type": "execute_result"
    }
   ],
   "source": [
    "# self is the reference to the object itself\n",
    "class Point:\n",
    "    def __init__(self, x, y):\n",
    "        self.x = x\n",
    "        self.y = y\n",
    "\n",
    "point1 = Point(10, 20)\n",
    "point2 = Point(1, 2)\n",
    "point3 = Point(3, 4)\n",
    "point4 = Point(5, 6)\n",
    "# x and y are the attributes of the object, or instance variables\n",
    "point1.x # 10\n",
    "point1.y # 20\n",
    "Point(100,200).x # 100"
   ]
  },
  {
   "cell_type": "code",
   "execution_count": 9,
   "metadata": {},
   "outputs": [
    {
     "name": "stdout",
     "output_type": "stream",
     "text": [
      "<__main__.Point object at 0x0000027CDBE0EDC0>\n",
      "<__main__.Point object at 0x0000027CDBE0E4F0>\n",
      "<__main__.Point object at 0x0000027CDBE0E670>\n",
      "<__main__.Point object at 0x0000027CDBE0ED30>\n"
     ]
    },
    {
     "data": {
      "text/plain": [
       "10"
      ]
     },
     "execution_count": 9,
     "metadata": {},
     "output_type": "execute_result"
    },
    {
     "data": {
      "text/plain": [
       "20"
      ]
     },
     "execution_count": 9,
     "metadata": {},
     "output_type": "execute_result"
    },
    {
     "name": "stdout",
     "output_type": "stream",
     "text": [
      "<__main__.Point object at 0x0000027CDBE372B0>\n"
     ]
    },
    {
     "data": {
      "text/plain": [
       "100"
      ]
     },
     "execution_count": 9,
     "metadata": {},
     "output_type": "execute_result"
    }
   ],
   "source": [
    "# self is the reference to the object itself\n",
    "class Point:\n",
    "    def __init__(this_object, x, y):\n",
    "        this_object.x = x\n",
    "        this_object.y = y\n",
    "        print(this_object) # <__main__.Point object at 0x000001E0B1B1F0A0>\n",
    "\n",
    "point1 = Point(10, 20)\n",
    "point2 = Point(1, 2)\n",
    "point3 = Point(3, 4)\n",
    "point4 = Point(5, 6)\n",
    "# x and y are the attributes of the object, or instance variables\n",
    "point1.x # 10\n",
    "point1.y # 20\n",
    "Point(100,200).x # 100"
   ]
  },
  {
   "cell_type": "code",
   "execution_count": 10,
   "metadata": {},
   "outputs": [
    {
     "data": {
      "text/plain": [
       "'John'"
      ]
     },
     "execution_count": 10,
     "metadata": {},
     "output_type": "execute_result"
    },
    {
     "data": {
      "text/plain": [
       "65"
      ]
     },
     "execution_count": 10,
     "metadata": {},
     "output_type": "execute_result"
    }
   ],
   "source": [
    "class Person:\n",
    "    def __init__(self, name, age):\n",
    "        self.name = name\n",
    "        self.age = age\n",
    "person1 = Person(\"John\", 65)\n",
    "person1.name # John\n",
    "person1.age # 65"
   ]
  },
  {
   "cell_type": "code",
   "execution_count": 11,
   "metadata": {},
   "outputs": [
    {
     "data": {
      "text/plain": [
       "'John'"
      ]
     },
     "execution_count": 11,
     "metadata": {},
     "output_type": "execute_result"
    },
    {
     "data": {
      "text/plain": [
       "65"
      ]
     },
     "execution_count": 11,
     "metadata": {},
     "output_type": "execute_result"
    }
   ],
   "source": [
    "class Person:\n",
    "    def __init__(self, n, a):\n",
    "        self.name = n\n",
    "        self.age = a\n",
    "person1 = Person(\"John\", 65)\n",
    "person1.name # John\n",
    "person1.age # 65"
   ]
  },
  {
   "cell_type": "code",
   "execution_count": 12,
   "metadata": {},
   "outputs": [],
   "source": [
    "####################\n",
    "#### Assignment ####\n",
    "####################\n",
    "class House:\n",
    "    def __init__(self, wall_area):\n",
    "        self.wall_area = wall_area\n",
    "\n",
    "class Paint:\n",
    "    def __init__(self, buckets, color):\n",
    "        self.buckets = buckets\n",
    "        self.color = color"
   ]
  },
  {
   "cell_type": "code",
   "execution_count": 13,
   "metadata": {},
   "outputs": [
    {
     "data": {
      "text/plain": [
       "1"
      ]
     },
     "execution_count": 13,
     "metadata": {},
     "output_type": "execute_result"
    },
    {
     "data": {
      "text/plain": [
       "'John'"
      ]
     },
     "execution_count": 13,
     "metadata": {},
     "output_type": "execute_result"
    }
   ],
   "source": [
    "\"john\".count(\"j\")\n",
    "\"john\".capitalize()"
   ]
  },
  {
   "cell_type": "code",
   "execution_count": 14,
   "metadata": {},
   "outputs": [
    {
     "name": "stdout",
     "output_type": "stream",
     "text": [
      "10 20\n"
     ]
    }
   ],
   "source": [
    "class Point:\n",
    "    def __init__(self, x, y):\n",
    "        self.x = x\n",
    "        self.y = y\n",
    "point1 = Point(10, 20)\n",
    "print(point1.x, point1.y) # 10 20"
   ]
  },
  {
   "cell_type": "code",
   "execution_count": 15,
   "metadata": {},
   "outputs": [
    {
     "data": {
      "text/plain": [
       "'Point does not fall in rectangle'"
      ]
     },
     "execution_count": 15,
     "metadata": {},
     "output_type": "execute_result"
    },
    {
     "data": {
      "text/plain": [
       "'Point falls in rectangle'"
      ]
     },
     "execution_count": 15,
     "metadata": {},
     "output_type": "execute_result"
    }
   ],
   "source": [
    "class Point:\n",
    "    def __init__(self, x, y):\n",
    "        self.x = x\n",
    "        self.y = y\n",
    "        \n",
    "    def falls_in_rectangle(self, point1, point2):\n",
    "        if point1[0] <= self.x <= point2[0] and point1[1] <= self.y <= point2[1]:\n",
    "            return \"Point falls in rectangle\"\n",
    "        else:\n",
    "            return \"Point does not fall in rectangle\"\n",
    "\n",
    "point1 = Point(3, 4)\n",
    "point1.falls_in_rectangle((5,6), (7,9)) # False\n",
    "point1.falls_in_rectangle((1,2), (7,9)) # True"
   ]
  },
  {
   "cell_type": "code",
   "execution_count": 16,
   "metadata": {},
   "outputs": [
    {
     "name": "stdout",
     "output_type": "stream",
     "text": [
      "Hey I am in __init__!\n"
     ]
    },
    {
     "data": {
      "text/plain": [
       "'Point does not fall in rectangle'"
      ]
     },
     "execution_count": 16,
     "metadata": {},
     "output_type": "execute_result"
    },
    {
     "data": {
      "text/plain": [
       "'Point falls in rectangle'"
      ]
     },
     "execution_count": 16,
     "metadata": {},
     "output_type": "execute_result"
    }
   ],
   "source": [
    "# __init__ vs normal method: \n",
    "# __init__ is called when the object is created, \n",
    "# normal method is called when the object is already created\n",
    "\n",
    "class Point:\n",
    "    def __init__(self, x, y):\n",
    "        print(\"Hey I am in __init__!\")\n",
    "        self.x = x\n",
    "        self.y = y\n",
    "        \n",
    "    def falls_in_rectangle(self, point1, point2):\n",
    "        if point1[0] <= self.x <= point2[0] and point1[1] <= self.y <= point2[1]:\n",
    "            return \"Point falls in rectangle\"\n",
    "        else:\n",
    "            return \"Point does not fall in rectangle\"\n",
    "\n",
    "point1 = Point(3, 4)\n",
    "point1.falls_in_rectangle((5,6), (7,9)) # False\n",
    "point1.falls_in_rectangle((1,2), (7,9)) # True"
   ]
  },
  {
   "cell_type": "code",
   "execution_count": 17,
   "metadata": {},
   "outputs": [
    {
     "data": {
      "text/plain": [
       "'Point does not fall in rectangle'"
      ]
     },
     "execution_count": 17,
     "metadata": {},
     "output_type": "execute_result"
    },
    {
     "data": {
      "text/plain": [
       "'Point falls in rectangle'"
      ]
     },
     "execution_count": 17,
     "metadata": {},
     "output_type": "execute_result"
    },
    {
     "data": {
      "text/plain": [
       "3.605551275463989"
      ]
     },
     "execution_count": 17,
     "metadata": {},
     "output_type": "execute_result"
    },
    {
     "data": {
      "text/plain": [
       "1.0"
      ]
     },
     "execution_count": 17,
     "metadata": {},
     "output_type": "execute_result"
    },
    {
     "data": {
      "text/plain": [
       "3.605551275463989"
      ]
     },
     "execution_count": 17,
     "metadata": {},
     "output_type": "execute_result"
    },
    {
     "data": {
      "text/plain": [
       "1.0"
      ]
     },
     "execution_count": 17,
     "metadata": {},
     "output_type": "execute_result"
    }
   ],
   "source": [
    "class Point:\n",
    "    def __init__(self, x, y):\n",
    "        self.x = x\n",
    "        self.y = y\n",
    "        \n",
    "    def falls_in_rectangle(self, point1, point2):\n",
    "        if point1[0] <= self.x <= point2[0] and point1[1] <= self.y <= point2[1]:\n",
    "            return \"Point falls in rectangle\"\n",
    "        else:\n",
    "            return \"Point does not fall in rectangle\"\n",
    "\n",
    "    def distance_from_point1(self, point_x, point_y):\n",
    "        return math.sqrt((self.x - point_x)**2 + (self.y - point_y)**2)\n",
    "\n",
    "    def distance_from_point2(self, point):\n",
    "        return math.sqrt((self.x - point.x)**2 + (self.y - point.y)**2)\n",
    "\n",
    "point1 = Point(3, 4)\n",
    "point1.falls_in_rectangle((5,6), (7,9)) # False\n",
    "point1.falls_in_rectangle((1,2), (7,9)) # True\n",
    "\n",
    "point1.distance_from_point1(1,1) # 3.605551275463989\n",
    "point1.distance_from_point1(3,3) # 1.4142135623730951\n",
    "\n",
    "point1.distance_from_point2(Point(1,1)) # 3.605551275463989\n",
    "point1.distance_from_point2(Point(3,3)) # 1.4142135623730951"
   ]
  },
  {
   "cell_type": "code",
   "execution_count": 18,
   "metadata": {},
   "outputs": [],
   "source": [
    "####################\n",
    "#### Assignment ####\n",
    "####################\n",
    "class House:\n",
    "    def __init__(self, wall_area):\n",
    "        self.wall_area = wall_area\n",
    "\n",
    "    def paint_needed(self):\n",
    "        return self.wall_area * 2.5\n",
    "\n",
    "class Paint:\n",
    "    def __init__(self, buckets, color):\n",
    "        self.buckets = buckets\n",
    "        self.color = color\n",
    "\n",
    "    def total_price(self):\n",
    "        if self.color == \"white\":\n",
    "            return self.buckets * 1.99\n",
    "        else:\n",
    "            return self.buckets * 2.19"
   ]
  },
  {
   "cell_type": "code",
   "execution_count": 19,
   "metadata": {},
   "outputs": [
    {
     "data": {
      "text/plain": [
       "'Point falls in rectangle'"
      ]
     },
     "execution_count": 19,
     "metadata": {},
     "output_type": "execute_result"
    }
   ],
   "source": [
    "class Point:\n",
    "    def __init__(self, x, y):\n",
    "        self.x = x\n",
    "        self.y = y\n",
    "        \n",
    "    def falls_in_rectangle(self, rectangle):\n",
    "        if rectangle.point1.x <= self.x <= rectangle.point2.x and rectangle.point1.y <= self.y <= rectangle.point2.y:\n",
    "            return \"Point falls in rectangle\"\n",
    "        else:\n",
    "            return \"Point does not fall in rectangle\"\n",
    "\n",
    "    def distance_from_point1(self, point_x, point_y):\n",
    "        return math.sqrt((self.x - point_x)**2 + (self.y - point_y)**2)\n",
    "\n",
    "    def distance_from_point2(self, point):\n",
    "        return math.sqrt((self.x - point.x)**2 + (self.y - point.y)**2)\n",
    "\n",
    "class Rectangle:\n",
    "    def __init__(self, point1, point2):\n",
    "        self.point1 = point1\n",
    "        self.point2 = point2\n",
    "\n",
    "point1 = Point(6,7)\n",
    "rectangle1 = Rectangle(Point(5,6), Point(7,9))\n",
    "point1.falls_in_rectangle(rectangle1)"
   ]
  },
  {
   "cell_type": "code",
   "execution_count": 20,
   "metadata": {},
   "outputs": [
    {
     "name": "stdout",
     "output_type": "stream",
     "text": [
      "Rectangle Coordinates:  1 , 5 and 15 , 19\n",
      "Point falls in rectangle\n"
     ]
    }
   ],
   "source": [
    "rectangle1 = Rectangle(point1=Point(x=randint(0,9), y=randint(0,9)), \n",
    "                       point2=Point(x=randint(10,19), y=randint(10,19)))\n",
    "\n",
    "print(\"Rectangle Coordinates: \", rectangle1.point1.x, \",\", rectangle1.point1.y, \"and\", rectangle1.point2.x, \",\", rectangle1.point2.y)\n",
    "# user_point = Point(int(input(\"Enter x coordinate: \")), \n",
    "# int(input(\"Enter y coordinate: \")))\n",
    "user_point = Point(6,7)\n",
    "print(user_point.falls_in_rectangle(rectangle1))"
   ]
  },
  {
   "cell_type": "code",
   "execution_count": 21,
   "metadata": {},
   "outputs": [
    {
     "name": "stdout",
     "output_type": "stream",
     "text": [
      "Rectangle Coordinates:  8 , 5 and 16 , 18\n",
      "Point does not fall in rectangle\n",
      "Your guess is off by 106.1\n"
     ]
    }
   ],
   "source": [
    "# Add a method that asks user to guess the area of rectangle and returns True if the guess is correct and False if the guess is wrong.\n",
    "\n",
    "class Point:\n",
    "    def __init__(self, x, y):\n",
    "        self.x = x\n",
    "        self.y = y\n",
    "        \n",
    "    def falls_in_rectangle(self, rectangle):\n",
    "        if rectangle.point1.x <= self.x <= rectangle.point2.x and rectangle.point1.y <= self.y <= rectangle.point2.y:\n",
    "            return \"Point falls in rectangle\"\n",
    "        else:\n",
    "            return \"Point does not fall in rectangle\"\n",
    "\n",
    "    def distance_from_point1(self, point_x, point_y):\n",
    "        return math.sqrt((self.x - point_x)**2 + (self.y - point_y)**2)\n",
    "\n",
    "    def distance_from_point2(self, point):\n",
    "        return math.sqrt((self.x - point.x)**2 + (self.y - point.y)**2)\n",
    "\n",
    "class Rectangle:\n",
    "    def __init__(self, point1, point2):\n",
    "        self.point1 = point1\n",
    "        self.point2 = point2\n",
    "        \n",
    "    def area(self):\n",
    "        return (self.point2.x - self.point1.x) * (self.point2.y - self.point1.y)\n",
    "\n",
    "rectangle1 = Rectangle(point1=Point(x=randint(0,9), y=randint(0,9)), \n",
    "                       point2=Point(x=randint(10,19), y=randint(10,19)))\n",
    "\n",
    "print(\"Rectangle Coordinates: \", rectangle1.point1.x, \",\", rectangle1.point1.y, \"and\", rectangle1.point2.x, \",\", rectangle1.point2.y)\n",
    "# user_point = Point(int(input(\"Enter x coordinate: \")), \n",
    "# int(input(\"Enter y coordinate: \")))\n",
    "user_point = Point(6,7)\n",
    "user_area = 210.1 #float(input(\"Enter area of rectangle: \"))\n",
    "print(user_point.falls_in_rectangle(rectangle1))\n",
    "print(\"Your guess is off by\", abs(user_area - rectangle1.area()))"
   ]
  },
  {
   "cell_type": "code",
   "execution_count": 22,
   "metadata": {},
   "outputs": [
    {
     "data": {
      "text/plain": [
       "9.95"
      ]
     },
     "execution_count": 22,
     "metadata": {},
     "output_type": "execute_result"
    },
    {
     "data": {
      "text/plain": [
       "8.955"
      ]
     },
     "execution_count": 22,
     "metadata": {},
     "output_type": "execute_result"
    }
   ],
   "source": [
    "# The paint shop decides it's a good idea to apply paint discounts for special occasions. \n",
    "# Therefore, your new task as a programmer is to incorporate a new type of object - DiscountedPaint. \n",
    "# Your exact task is to:\n",
    "# 1. Create a DiscountedPaint class below the existing code. The class should inherit from Paint.\n",
    "# 2. Add a discounted_price method to that class. The method should have a discount_percentage parameter. There is no need to create an __init__ method.\n",
    "# 3. The discounted_price method should calculate and return a discounted price based on the output of self.total_price() and the value of discount_percentage. \n",
    "#  You could do this by first calculating the total price, then calculate the total discount, then subtract the total discount from the total price to get the discounted price and return it.\n",
    "\n",
    "class Paint:\n",
    "\n",
    "    def __init__(self, buckets, color): # Or get house area and height\n",
    "        self.color = color\n",
    "        self.buckets = buckets\n",
    "\n",
    "    def total_price(self):\n",
    "        if self.color == \"white\":\n",
    "            return self.buckets * 1.99\n",
    "        else:\n",
    "            return self.buckets * 2.19\n",
    "        \n",
    "class DiscountedPaint(Paint):\n",
    "    def discounted_price(self, discount_percentage):\n",
    "        price = self.total_price()\n",
    "        discount = price * discount_percentage / 100\n",
    "        return price - discount\n",
    "\n",
    "\n",
    "\n",
    "paint1 = Paint(5, \"white\")\n",
    "paint1.total_price() # 9.95\n",
    "\n",
    "discounted_paint1 = DiscountedPaint(5, \"white\")\n",
    "discounted_paint1.discounted_price(discount_percentage=10) # 8.955"
   ]
  }
 ],
 "metadata": {
  "kernelspec": {
   "display_name": "pyoop_env",
   "language": "python",
   "name": "python3"
  },
  "language_info": {
   "codemirror_mode": {
    "name": "ipython",
    "version": 3
   },
   "file_extension": ".py",
   "mimetype": "text/x-python",
   "name": "python",
   "nbconvert_exporter": "python",
   "pygments_lexer": "ipython3",
   "version": "3.9.16"
  },
  "orig_nbformat": 4,
  "vscode": {
   "interpreter": {
    "hash": "2327e4b135645c72d6e48287f5e7c15947a83661cc06303f07d068a69b4e60dd"
   }
  }
 },
 "nbformat": 4,
 "nbformat_minor": 2
}
